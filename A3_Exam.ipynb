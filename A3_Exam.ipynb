{
  "nbformat": 4,
  "nbformat_minor": 0,
  "metadata": {
    "colab": {
      "name": "A3_Exam.ipynb",
      "provenance": [],
      "include_colab_link": true
    },
    "kernelspec": {
      "name": "python3",
      "display_name": "Python 3"
    }
  },
  "cells": [
    {
      "cell_type": "markdown",
      "metadata": {
        "id": "view-in-github",
        "colab_type": "text"
      },
      "source": [
        "<a href=\"https://colab.research.google.com/github/Amy12564896/UTS_ML2019_ID12564896/blob/master/A3_Exam.ipynb\" target=\"_parent\"><img src=\"https://colab.research.google.com/assets/colab-badge.svg\" alt=\"Open In Colab\"/></a>"
      ]
    },
    {
      "cell_type": "markdown",
      "metadata": {
        "id": "riApelgpVRx4",
        "colab_type": "text"
      },
      "source": [
        "# Question 3\n",
        "Marketing or advertising companies would be very interested in being able to predict whether a Twitter message will spread as a meme or not, and even better, construct it so that it will spread. Why is this a hard problem to solve? Describe two appraoches using data analytics to predict whether a tweet will go viral or not. How would you validate these approaches? Discuss the ethical and social consequence of this study.\n"
      ]
    },
    {
      "cell_type": "markdown",
      "metadata": {
        "id": "ntAik1VT784h",
        "colab_type": "text"
      },
      "source": [
        "# Notes\n",
        "\n",
        "\n",
        "1.   Predicting the active eriod of poularity evolution - twitter hashtags\n",
        "2.   Understanding and predicting the peak poularity of bursting hashtags\n",
        "3. On Predicting popularity of newly emerging hashtags in twitter\n",
        "4. Role of conductance, geography, topology in predicting hashtag virality\n",
        "5. Sequential prediction of social media poularity with deep temporal context networks\n",
        "6. Predicting popularity of online content based on weak ties theory\n",
        "7. Feasability of predicting popular news at cold start\n",
        "8. Predicting the popularity of viral topics based on time series forcasting.\n",
        "9. Predicting the popularity of online content\n",
        "10. Understanding, analysing and predicting online user behaviour\n",
        "11. Characterising and predicting popularity of online videos\n",
        "12. Will this video go viral?\n",
        "13. Predicting pop online videos using SVR\n",
        "14. Novel time series apraoch long term popularity vids\n",
        " \n"
      ]
    },
    {
      "cell_type": "markdown",
      "metadata": {
        "id": "FNQmg9wl9hQd",
        "colab_type": "text"
      },
      "source": [
        "# 1 Predicting the active period hashtags\n",
        "\n",
        "- 400h video content uploaded to youtube every minute. \n",
        "- 500mill tweets created every day.\n",
        "-  Due to high volumn of content it's hard to get attention/popularity\n",
        "- Popularity evolution is a measurement for understanding human collective attention - reflecting how much attention a piece of content receives over time. \n",
        "- Active period - how long piece of content can receive attention continuously. \n",
        "- Predictinv active period helps in understanding how human attention aggregates on online content and how quickly a piece of content diffuses. \n",
        "- Challenges:\n",
        "  - Various factors may have impacts on active period - both dynamic and static factors\n",
        "    - Dynamic include topological network, user information. \n",
        "    - Static include online content, content age\n",
        "  - Durations of active period vary from hours to weeks - such significant difference cuases difficulties in the decision of when to trigger predicting active period. \n",
        "    - AN active period that lasts hours means that a day is too late to begin predictions. \n",
        "- **This paper uses Deep Neural Network framework.**\n",
        "  - Long Short Term Memory Based dynamic embedding\n",
        "  - Convolutional NEural NEtwork based static embedding\n",
        "  - Both are fed into predictor and is triggered once cumulative popularity reaches a critical level rather than fixed time.\n",
        "- 3mil hashtags across 40mil users. \n",
        "- Understanding how individual parts influence the final popularity score\n",
        "- Related work \n",
        "  - Uploader with lots of connections is an important factor contributing to initial pop ev\n",
        "  - For News Articles - news source, news category, subjectivity and named entities. News source being real important. \n",
        "  - Other hasthage - hastag lexical features, content features, user count feature, network community feature - fed featrues to classifiers in order to see impact. User count is most important. \n",
        "  - The referrer is most important mechanism that drives users to access the content by statistical analysis. \n",
        "- Factors in this report that are different is that they distinguish factors into dynamic and static. \n"
      ]
    },
    {
      "cell_type": "code",
      "metadata": {
        "id": "ObYuBUnRVOhZ",
        "colab_type": "code",
        "colab": {}
      },
      "source": [
        ""
      ],
      "execution_count": 0,
      "outputs": []
    }
  ]
}