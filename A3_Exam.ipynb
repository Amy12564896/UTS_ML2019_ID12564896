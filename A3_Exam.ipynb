{
  "nbformat": 4,
  "nbformat_minor": 0,
  "metadata": {
    "colab": {
      "name": "A3_Exam.ipynb",
      "provenance": [],
      "include_colab_link": true
    },
    "kernelspec": {
      "name": "python3",
      "display_name": "Python 3"
    }
  },
  "cells": [
    {
      "cell_type": "markdown",
      "metadata": {
        "id": "view-in-github",
        "colab_type": "text"
      },
      "source": [
        "<a href=\"https://colab.research.google.com/github/Amy12564896/UTS_ML2019_ID12564896/blob/master/A3_Exam.ipynb\" target=\"_parent\"><img src=\"https://colab.research.google.com/assets/colab-badge.svg\" alt=\"Open In Colab\"/></a>"
      ]
    },
    {
      "cell_type": "markdown",
      "metadata": {
        "id": "riApelgpVRx4",
        "colab_type": "text"
      },
      "source": [
        "# Question 3\n",
        "Marketing or advertising companies would be very interested in being able to predict whether a Twitter message will spread as a meme or not, and even better, construct it so that it will spread. Why is this a hard problem to solve? Describe two appraoches using data analytics to predict whether a tweet will go viral or not. How would you validate these approaches? Discuss the ethical and social consequence of this study.\n"
      ]
    },
    {
      "cell_type": "markdown",
      "metadata": {
        "id": "ntAik1VT784h",
        "colab_type": "text"
      },
      "source": [
        "# Notes\n",
        "\n",
        "\n",
        "1.   Predicting the active eriod of poularity evolution - twitter hashtags\n",
        "2.   Understanding and predicting the peak poularity of bursting hashtags\n",
        "3. On Predicting popularity of newly emerging hashtags in twitter\n",
        "4. Role of conductance, geography, topology in predicting hashtag virality\n",
        "5. Sequential prediction of social media poularity with deep temporal context networks\n",
        "6. Predicting popularity of online content based on weak ties theory\n",
        "7. Feasability of predicting popular news at cold start\n",
        "8. Predicting the popularity of viral topics based on time series forcasting.\n",
        "9. Predicting the popularity of online content\n",
        "10. Understanding, analysing and predicting online user behaviour\n",
        "11. Characterising and predicting popularity of online videos\n",
        "12. Will this video go viral?\n",
        "13. Predicting pop online videos using SVR\n",
        "14. Novel time series apraoch long term popularity vids\n",
        " \n"
      ]
    },
    {
      "cell_type": "markdown",
      "metadata": {
        "id": "FNQmg9wl9hQd",
        "colab_type": "text"
      },
      "source": [
        "# 1 Predicting the active period hashtags\n",
        "\n",
        "- lettuce leave"
      ]
    },
    {
      "cell_type": "code",
      "metadata": {
        "id": "ObYuBUnRVOhZ",
        "colab_type": "code",
        "colab": {}
      },
      "source": [
        ""
      ],
      "execution_count": 0,
      "outputs": []
    }
  ]
}