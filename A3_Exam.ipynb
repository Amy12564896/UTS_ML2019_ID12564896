{
  "nbformat": 4,
  "nbformat_minor": 0,
  "metadata": {
    "colab": {
      "name": "A3_Exam.ipynb",
      "provenance": [],
      "include_colab_link": true
    },
    "kernelspec": {
      "name": "python3",
      "display_name": "Python 3"
    }
  },
  "cells": [
    {
      "cell_type": "markdown",
      "metadata": {
        "id": "view-in-github",
        "colab_type": "text"
      },
      "source": [
        "<a href=\"https://colab.research.google.com/github/Amy12564896/UTS_ML2019_ID12564896/blob/master/A3_Exam.ipynb\" target=\"_parent\"><img src=\"https://colab.research.google.com/assets/colab-badge.svg\" alt=\"Open In Colab\"/></a>"
      ]
    },
    {
      "cell_type": "markdown",
      "metadata": {
        "id": "riApelgpVRx4",
        "colab_type": "text"
      },
      "source": [
        "# Question 3\n",
        "*Marketing or advertising companies would be very interested in being able to predict whether a Twitter message will spread as a meme or not, and even better, construct it so that it will spread. Why is this a hard problem to solve? Describe two appraoches using data analytics to predict whether a tweet will go viral or not. How would you validate these approaches? Discuss the ethical and social consequence of this study.*\n",
        "\n",
        "Link: https://github.com/Amy12564896/UTS_ML2019_ID12564896/blob/master/A3_Exam.ipynb \n"
      ]
    },
    {
      "cell_type": "markdown",
      "metadata": {
        "id": "AKnODyrUiMWe",
        "colab_type": "text"
      },
      "source": [
        "# Challenges\n",
        " With the copious amounts of data being collected there are more opportunities to predict trends and adjust business strategies to align with these insights. Social media platforms are a forum of content creation by businesses and consumers which has allowed for the emergence of memes which gain popularity at incredible rates from seemingly anywhere. The task to predict if content – a Tweet - will become viral and extend that into creating ‘meme-worthy’ content is a complex problem. There are many elements that feed into the challenge of predicting viral content such as memes including volume, spontaneity, time and content.\n",
        " \n",
        "> *‘There are around 400 h of video content uploaded to YouTube every minute and around 500 million tweets created on Twitter every day.’ (Huang et al 2019 pp. 1).*\n",
        "\n",
        "The volume of content being generated and spread through social media is overwhelming and user attention is limited therefore very  small percentages of content gain high levels of traffic (Arapakis, Berkant & Lalmas 2017). Coupled with the constant nature of this content creation the nature of memes is reactive and spontaneous. Memes have highly dynamic behavior as the topics can change instantly and often the most viral ones respond to live worldwide events which increases the difficulty in prediction (Hu et al. 2016). Due to the instantaneous nature of Tweets and the memes within this platform the time period in which content receives popularity can span from hours to weeks which Huang et al (2019) refer to as the ‘Active Period’. Those memes that hit peak popularity within hours and decay equally as quickly are called ‘Bursting Hashtags’ which can be extremely unsystematic to other trends in the media adding another layer of complexity when working to predict the future popularity of tweets (Xu et al 2018). Conventional prediction models work off historical statistics and trends which memes do not always adhere to as they are highly reactive to changes in global affairs which is a complex relationship to capture between users (Wang et al. 2018 & Trzci´nski & Rokita 2017). Tweets are particularly tricky to compute as Twitter as a platform hyperbolizes the issues mentioned above as the content is limited in length therefore the flow of information is constant and noisy as users instantly react to world events (Ma, Sun & Cong 2013).\n",
        "\n",
        "![Tweet Meme text above man in hosptial bed with female nurse reading: Nurse: Sir... you've been in a coma since 2017. Me: Do people still use this meme format? Nurse: Yesn't. Me: What?](https://i.imgur.com/xxwoB3Vm.jpg)\n",
        "\n",
        "This response will describe two research papers that predict future popularity of online content using Tweets. The first examines the two distinct factors of viral tweets - the dynamic changeability and static content. Whilst the second focuses on predicting fast moving short lived viral tweets. "
      ]
    },
    {
      "cell_type": "markdown",
      "metadata": {
        "id": "8fFFN_8m9SIc",
        "colab_type": "text"
      },
      "source": [
        "# Approach 1\n",
        "The first approach by Huang et al (2019) uses 3 million hashtags across 40 million users in a Deep Neural Network Framework to create their prediction model. The research this paper adds to this field combines both dynamic and static factors into the same model whereas previous research often consider them separately. Dynamic factors are those that change over time such as User Statistics, Accumulation Time and Topological Network formed by users discussing a hashtag which are embedded using Long Short Term Memory (LSTM). Whilst static factors are those that consider content of the Tweets themselves and the age of the content which are embedded using a Convolutional Neural Network (CNN) Another distinction Huang et al (2019) make from other work is to use a trigger level to begin predictions rather than a fixed time – this is due the volatility the time factor has in Tweet popularity to ensure that the model captures the entire ‘Active Period’.\n",
        " \n",
        "Firstly, to combine the Dynamic features the Deep Walk algorithm is used to embed the Topological Network - where users who Tweet the hashtag are assessed for relationships and connected if this is true – together with the accumulated popularity over a time period. This topological network is then concatenated with the user statistics – which collects the celebrities involved in the hashtag and their fans. This is then sent to the LSTM which decides what information is useful to be stored in cell states. The static factors extract from the hashtag a string feature – a vector composed of string length and individual words in string counted – and the lexical feature which is extracted by word embedding and the CNN. These are then concatenated together into a vector and apply a max pooling layer to the output followed by a dense fixed number of neurons layer is applied to the output of the pooling layer. It is then logarithmically normalized and trained by minimizing the cost function. The results showed that the higher the trigger level results in higher accuracy based on an Absolute Percentage Error evaluation and a stronger right skew than other baseline models across all trigger levels (Support Vector Regression, SpikeM and Neural Networks).\n",
        "\n",
        "\n"
      ]
    },
    {
      "cell_type": "markdown",
      "metadata": {
        "id": "jWNgnx8P9iZK",
        "colab_type": "text"
      },
      "source": [
        "# Approach 2\n",
        "The approach described Xu et al (2018) focuses on the short sharp viral hashtags – which are harder to understand as there is less historical data to support the models. The approach employs graphical analysis to examine the relationship between global clustering coefficient (GCC) peak and the popularity peak as a basis for the prediction model. The dataset included 65 million tweets from June to December 2009 - in which a subset of 3.3 million is identified based on following a power-law shape. From this 755 bursting hashtags are identified and for training are divided across a training set with an additional 500 random hashtags. As all hashtags in the dataset are cumulated into evolving graphs in which clusters appear where GCC, average node degree and maximum node degree are calculated. The average node degree and maximum node degree continuously increase before reaching the peak popularity time point and volume which is recorded for the model. A sharp rise in GCC relates to a rise in popularity evolution and the peak time point and volume of the GCC is recorded for the model. Xu et al (2018) then implement a power-law function to understand the pattern between the two factors – the parameters from this function combined with the peak time points and volumes are combined into a model to predict the popularity of future bursting hashtags. The model is validated through using Mean Absolute Percentage Error (MAPE) and compared to other models such as SpikeM and Self-excited Hawkes model in which this approach results in lower error. \n"
      ]
    },
    {
      "cell_type": "markdown",
      "metadata": {
        "id": "StJTjc6IPPxb",
        "colab_type": "text"
      },
      "source": [
        "\n",
        "# Validation\n",
        "\n",
        "To validate these methods to achieve the task given would be to first create a dataset that examines a high volume of tweets - at minimum 1 million - as too little volume will not provide adequate results. Once attaining this dataset of tweets the validation technique would be cross validation with k-folders selecting 20 k partitions in which one is chosen as the test set and the remaining as training (Cogito 2019). These two partitions are then fed through each model and evaluated using Root Mean Squared Error to understand the error rates. This would then be compared to other pre-existing models to ensure that the model results are not abnormal in performance - these models could be a combination of deep temporal context networks, neural networks or support vector regression.  \n"
      ]
    },
    {
      "cell_type": "markdown",
      "metadata": {
        "id": "v3i5DIEoFGLg",
        "colab_type": "text"
      },
      "source": [
        "# Ethics and Social Consequence \n",
        "\n",
        "The ability to predict viral online content has the potential to create ethical dilemmas with the potential for governments to create computational propaganda which distorts facts, increases hate speech through toxic narratives that shape public attitudes to fit the political agenda. 70 countries have been found to use computational propaganda, Australia being one of them (Lomas 2019). Understanding what content becomes viral allows governments - and large corporations - to feed bots that will amplify their message across media channels into viral circulation smothering other information that might have higher natural importance. Regulation has not kept up with the true power social media can provide mega corporations and governments. Developers who continue to dig into the gargantuan of social media data to create predictive models must be wary of the unethical nature that their work could allow and hold the utilitarian stance to design solutions that help the most people. "
      ]
    },
    {
      "cell_type": "markdown",
      "metadata": {
        "id": "nvSWoaj8EP_G",
        "colab_type": "text"
      },
      "source": [
        "# Reference List\n",
        "Arapakis I., Berkant B. C., Lalmas M., 2017, ‘Feasibility of predicting popular news at cold start’, Journal of the Association for Information and Science Technology’, vol. 68, no. 5, pp. 1149-1164. \n",
        "\n",
        "Cogito, 2019, How to validate machine learning models: ML Model Validation Methods, 13 May, viewed 6 October 2019, < https://www.cogitotech.com/blog/how-to-validate-machine-learning-models/?fbclid=IwAR0ctMADjVYcaRwzc_R12bEncpPiq-t5s3vPjOHhZV9gySMahhk0PSTfyZQ >. \n",
        "\n",
        "Hu Y., Hu C., Fu S., Shi P., Ning B., 2016, ‘Predicting the popularity of viral topics based on time series forecasting’, Neurocomputing, vol. 210, pp. 55-65.\n",
        "\n",
        "Huang J., Tang Y. Hu Y., Jianjiang L., Hu C., 2019, ‘Predicting the active period of popularity evolution: A case study on Twitter hashtags’, Information Sciences, vol. 7, pp 1-12.\n",
        "\n",
        "Lomas N., 2019, ‘Voter manipulation on social media now a global problem, report finds’, TechCrunch, 26 September 2019, viewed 7 October 2019, < https://techcrunch.com/2019/09/26/voter-manipulation-on-social-media-now-a-global-problem-report-finds/ >.\n",
        "\n",
        "Ma Z., Sun A., Cong G., 2013, ‘On Predicting the popularity of newly emerging hashtags in Twitter’, Journal of the American Society for Information Science and Technology, vol. 64, no. 7, pp. 1399-1410. \n",
        "\n",
        "Trzci´nski T., Rokita P., 2017, ‘Predicting Popularity of Online Videos using Support Vector Regression’, IEEE Transactions on Multimedia, vol. 19, no. 11, pp 2561-2571.\n",
        "\n",
        "Wang X., Fang B., Zhang H., Su S., 2018, ‘Predicting the popularity of online content based on the weak ties theory’, IEEE Third International Conference on Data Science in Cyberspace, Guangzhou, 2018, pp. 386-391.\n",
        "\n",
        "Xu W., Shi P., Huang J., Liu F., 2018, ‘Understanding and Predicting the peak popularity of bursting hashtags’, Journal of Computational Science, vol. 28, pp. 328-335.\n"
      ]
    }
  ]
}