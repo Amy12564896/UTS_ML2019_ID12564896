{
  "nbformat": 4,
  "nbformat_minor": 0,
  "metadata": {
    "colab": {
      "name": "A3_Exam.ipynb",
      "provenance": [],
      "include_colab_link": true
    },
    "kernelspec": {
      "name": "python3",
      "display_name": "Python 3"
    }
  },
  "cells": [
    {
      "cell_type": "markdown",
      "metadata": {
        "id": "view-in-github",
        "colab_type": "text"
      },
      "source": [
        "<a href=\"https://colab.research.google.com/github/Amy12564896/UTS_ML2019_ID12564896/blob/master/A3_Exam.ipynb\" target=\"_parent\"><img src=\"https://colab.research.google.com/assets/colab-badge.svg\" alt=\"Open In Colab\"/></a>"
      ]
    },
    {
      "cell_type": "markdown",
      "metadata": {
        "id": "riApelgpVRx4",
        "colab_type": "text"
      },
      "source": [
        "# Question 3\n",
        "Marketing or advertising companies would be very interested in being able to predict whether a Twitter message will spread as a meme or not, and even better, construct it so that it will spread. Why is this a hard problem to solve? Describe two appraoches using data analytics to predict whether a tweet will go viral or not. How would you validate these approaches? Discuss the ethical and social consequence of this study.\n"
      ]
    },
    {
      "cell_type": "markdown",
      "metadata": {
        "id": "ntAik1VT784h",
        "colab_type": "text"
      },
      "source": [
        "# Notes\n",
        "\n",
        "\n",
        "1.   **Predicting the active eriod of poularity evolution - twitter hashtags**\n",
        "2.   Understanding and predicting the peak poularity of bursting hashtags\n",
        "4. **Predicting popularity of online content based on weak ties theory**\n",
        "5.  Sequential prediction of social media poularity with deep temporal context networks\n",
        "6. On Predicting popularity of newly emerging hashtags in twitter\n",
        "7. Feasability of predicting popular news at cold start\n",
        "8. Predicting the popularity of viral topics based on time series forcasting.\n",
        "9.  Will this video go viral?\n",
        "10. Predicting pop online videos using SVR\n",
        "11. Characterising and predicting popularity of online videos\n",
        "12.Predicting the popularity of online content\n",
        "13. Novel time series apraoch long term popularity vids\n",
        "14. Role of conductance, geography, topology in predicting hashtag virality\n"
      ]
    },
    {
      "cell_type": "markdown",
      "metadata": {
        "id": "FNQmg9wl9hQd",
        "colab_type": "text"
      },
      "source": [
        "# 1 Predicting the active period hashtags\n",
        "Jianyi Huang a , b , Yuyuan Tang a , b , Ying Hu a , b , Jianjiang Li a , b , ∗, Changjun Hu a , b 2019\n",
        "\n",
        "- 400h video content uploaded to youtube every minute. \n",
        "- 500mill tweets created every day.\n",
        "-  Due to high volumn of content it's hard to get attention/popularity\n",
        "- Popularity evolution is a measurement for understanding human collective attention - reflecting how much attention a piece of content receives over time. \n",
        "- Active period - how long piece of content can receive attention continuously. \n",
        "- Predictinv active period helps in understanding how human attention aggregates on online content and how quickly a piece of content diffuses. \n",
        "- Challenges:\n",
        "  - Various factors may have impacts on active period - both dynamic and static factors\n",
        "    - Dynamic include topological network, user information. \n",
        "    - Static include online content, content age\n",
        "  - Durations of active period vary from hours to weeks - such significant difference cuases difficulties in the decision of when to trigger predicting active period. \n",
        "    - AN active period that lasts hours means that a day is too late to begin predictions. \n",
        "- **This paper uses Deep Neural Network framework.**\n",
        "  - Long Short Term Memory Based dynamic embedding\n",
        "  - Convolutional NEural NEtwork based static embedding\n",
        "  - Both are fed into predictor and is triggered once cumulative popularity reaches a critical level rather than fixed time.\n",
        "- 3mil hashtags across 40mil users. \n",
        "- Understanding how individual parts influence the final popularity score\n",
        "- Related work \n",
        "  - Uploader with lots of connections is an important factor contributing to initial pop ev\n",
        "  - For News Articles - news source, news category, subjectivity and named entities. News source being real important. \n",
        "  - Other hasthage - hastag lexical features, content features, user count feature, network community feature - fed featrues to classifiers in order to see impact. User count is most important. \n",
        "  - The referrer is most important mechanism that drives users to access the content by statistical analysis. \n",
        "- Factors in this report that are different is that they distinguish factors into dynamic and static. \n",
        "\n",
        "Solutions and work\n",
        "- Dynamic Factors\n",
        "  - Accumulation Time, User Statistics, Topological Network formed by users discussing a hashtag. \n",
        "  - These change over time.  Embeddings made at different time points for topological network and user stats. Then these two series are combined into one. THen this is fed into the LSTM and this output and accumulation of time embedding are concatenated together. \n",
        "  - **Accumulation time embedding** gives amount of time it takes when cumulative popularity reaches a certain level, which is also the period before a prediction is triggered. (t)\n",
        "  - **Topological Network Embedding** aims to learn a low dimensional dense vector for each node. It denotes cumulative evolving network by N(mini)t for a hashtag at a time. Vertices of Nt are users who have tweeted on the hashtag in hours 0 through t. if vertex u and vertex v have a follower-following relationship an ade between them is added. This paer utilises DeepWalk to make an embedding for Nt and is used for learning latent representations of vertices in a network. These latent representations by treating walks as the equivalent of sentences so that language modelling techniques like Skipgram can be adopted. Combined wit user statistics.\n",
        "  - **User Statistics embedding** celebrity involvement in discussing a hashtag can prolong active eriod - so paer collects this and their fans. \n",
        "- Static Factors\n",
        "  - Hashtag content considered - extracts two features, string and lexical feature. String represented by a vector composted of string length and number of individual words in string. Lexical feature is extracted by word embedding and CNN - next embeddings of string feature and lexical feature are concatenated together. \n",
        "  - Hashtag content embedding - manually separate strings into indivdual words and count number of individual words \n",
        "  - Hashtag lexical feature extracted - treated sequence of words and each word to a vector according to a pre-rained wiki text corpus and make a matrix. THen convolutional layer applied - (n=filters applied, l=window size of filter, Wc=filter weight matrix of convolutional layer, g = non-linear activiation function.) Max pooling layer is applied to the outut of convolutional layer as follows. \n",
        "  - THen a dense layer with a fixed number of neurons is applied to the output of the max pooling layer. \n",
        "\n",
        "- Uses absolute percentage error \n",
        "- THe higher the prediction trigger level the better the predictor was\n",
        "- The best combination of hyper-parameters is m = 16 , n = 16\n",
        "and k = 32 .\n",
        "- dataset not big enough - overfited\n",
        "- For the predictions triggered when cumulative popularity reaches 800, the median error value is about 0.15, which indicates that accurate results can be achieved if predictions are triggered after cumulative popularity reaches 800.\n",
        "- User statistics factor and accuulation factor perform better in active period predicions. \n",
        "- Topology network factor not useful in active period redictions.\n",
        "- Hashtag content least significant role in middle/late stages. \n",
        "- Actually, the superiority of our method over other methods is more reflected in early predictions than\n",
        "it is in late predictions, which is still an advantage because in reality predictions should be triggered earlier for the sake of\n",
        "timeliness."
      ]
    },
    {
      "cell_type": "markdown",
      "metadata": {
        "id": "T8AqTJ-N790E",
        "colab_type": "text"
      },
      "source": [
        "# 2 Understanding and predicting the peak popularity of bursting hashtags\n",
        "Wenwen Xua, Peng Shib,∗, Jianyi Huanga, Feng Liua 2018\n",
        "\n",
        "- The peak fraction denoted by F can be used as an indicator of\n",
        "bursting hashtags. It is calculated by the peak popularity volume\n",
        "compared with the total count. Yang and Leskovec [4] found that\n",
        "most hashtags have a low F, with the peak volume accounting for\n",
        "around 2–5% of the total volume.\n",
        "- Understanding the diffusion process behind the formation\n",
        "of peak popularity provides some insights for collective human\n",
        "dynamics and many complex systems. And it also helps to improve\n",
        "performance of some applications like burst events detection [6,7],\n",
        "stock market, cache [8] and recommendation system [9], etc.\n",
        "- In this paper, we attempt to describe and explain the process\n",
        "that forms the peak popularity of bursting hashtags. We study the\n",
        "diffusion of the bursting hashtag through the network, tracking the\n",
        "structure of the infection’s growth, in the way that epidemiologists\n",
        "do for infections. Drawing on ideas from the study of complex\n",
        "systems and statistical mechanics we try to characterize bursting\n",
        "hashtags in terms of their patterns of growth\n",
        "- When popularity reaches the highest value, it gets the peak popularity.Diffusion network forms during users discuss each hashtag.\n",
        "Underlying diffusion network dynamically changes. We utilize\n",
        "cumulative evolving graphs [33] to record how diffusion network\n",
        "structure evolves over time\n",
        "- we used an exponential and power function to fit the rise part\n",
        "of the popularity evolution of each bursting hashtag in our data set.\n",
        "The fitting error rate is evaluated by MSE (mean squared error). MSE\n",
        "is given by Eq. (1). The smaller MSE is, the better the performance\n",
        "is\n",
        "- The temporal analysis showed in Section 4 highlights there is a\n",
        "clear linear relationship between the peck time Tc of global clustering\n",
        "coefficient and the peak time Tp of popularity.\n",
        "- We assume that the rate of popularity increase does not remain\n",
        "the same during the rise part of evolution. The exponent (\u0005) of the\n",
        "power function decreases when popularity begins to peak\n",
        "- On the test set, we evaluated the performance of our model by\n",
        "calculating the prediction error rates (ER) of Tp and y (Tp) for each\n",
        "bursting hashtag.\n",
        "- As shown in Fig. 7, for y (Tp), even though we leave out some\n",
        "outliers, maximum error rate is still large. The actual popularity\n",
        "peak values of some bursting hashtags are small, which is prone to\n",
        "result in a large error rate."
      ]
    },
    {
      "cell_type": "markdown",
      "metadata": {
        "id": "gDBIfqAKBLNk",
        "colab_type": "text"
      },
      "source": [
        "# 3 Predicting popularity of online content based on weak ties theory\n",
        "Xiaomeng Wang1*, Binxing Fang1􀐪, Hongli Zhang1*, Shen Su2* 2018\n",
        "\n",
        "- Popularity prediction of online content is\n",
        "applied extensively at the domain such as president elections\n",
        "forecast, disaster management, reputation management and\n",
        "effective advertising. That predicting the popularity of the\n",
        "online content is playing such an important role is due to a\n",
        "number of reasons. The diffusion of online content is a\n",
        "dynamical process exhibiting concurrency and competitive.\n",
        "- The reference time is the time at which we observe\n",
        "the initial popularity and using it to predict the final popularity.\n",
        "The popularity is usually measured by the number of shares,\n",
        "comments and likes. Here, we choose shares to represent the\n",
        "popularity. According to recent research, we notice that the\n",
        "initial communication is limited to smaller circles, and more\n",
        "are forwarded by friends or fans with strong connection\n",
        "frequency, and contents that can spread widely often attract\n",
        "more people from other circles to participate in forwarding.\n",
        "Based on the weak link theory , the more weak connections in\n",
        "the early time, the more easily to spread to multiple circles,so\n",
        "information which spreads to many circles and get more shares\n",
        "in the early days is expected to spread a large range finally.\n",
        "- majority of popularity prediction\n",
        "methods are short of accuracy, and seldom make use of the\n",
        "principles of social science, a mixed prediction model is\n",
        "proposed.\n",
        "- Most studies have shown that in human networks, such as\n",
        "multi-media networks which has social functions, the weak ties\n",
        "theory play an important role in the depth and breadth of\n",
        "information diffusion. Weak relationships connect individual\n",
        "communities, allowing information propagated across the\n",
        "network. But in the online social networks, there is no doubt\n",
        "that strong connections are valuable, but the role of weak\n",
        "connections in information dissemination can spread the\n",
        "message wider and farther.\n",
        "- In this paper, a popularity prediction method based on\n",
        "strong ties is proposed to deal with the situation that the\n",
        "accuracy of current algorithm is not high enough. The model\n",
        "introduces weak ties theory of social networks into the\n",
        "traditional popular prediction problem. An empirical research\n",
        "on famous homepage of Facebook clearly illustrate the\n",
        "capability the proposed method. The results in the experiment\n",
        "shows that our model provides a better performance than the\n",
        "other common method because of the import of strong ties\n",
        "frequency, which shows high linear correlation between the\n",
        "early and final popularity of online content.\n",
        "\n",
        "Will need to re-read approach section - but could be interesting to implement\n"
      ]
    },
    {
      "cell_type": "markdown",
      "metadata": {
        "id": "nvSWoaj8EP_G",
        "colab_type": "text"
      },
      "source": [
        ""
      ]
    }
  ]
}